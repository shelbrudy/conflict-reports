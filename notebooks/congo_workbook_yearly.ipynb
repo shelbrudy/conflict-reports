{
 "cells": [
  {
   "cell_type": "code",
   "execution_count": 1,
   "metadata": {},
   "outputs": [],
   "source": [
    "# Workbook to practice mapping using plotly\n",
    "# Data from ACLED (https://www.acleddata.com/)\n",
    "# ACLED codebook found here: https://www.acleddata.com/wp-content/uploads/dlm_uploads/2017/10/ACLED_Codebook_2019FINAL_pbl.pdf"
   ]
  },
  {
   "cell_type": "code",
   "execution_count": 1,
   "metadata": {},
   "outputs": [],
   "source": [
    "import os\n",
    "import pandas as pd\n",
    "import plotly.plotly as py\n",
    "%matplotlib inline"
   ]
  },
  {
   "cell_type": "code",
   "execution_count": 2,
   "metadata": {},
   "outputs": [
    {
     "data": {
      "text/plain": [
       "array(['Burkina Faso', 'Democratic Republic of Congo', 'Mali', 'Nigeria',\n",
       "       'South Africa', 'Tunisia', 'Burundi', 'Ghana', 'Guinea',\n",
       "       'Ivory Coast', 'Libya', 'Mozambique', 'Uganda', 'Cameroon',\n",
       "       'Kenya', 'Niger', 'Somalia', 'Sudan', 'Egypt', 'Angola',\n",
       "       'Central African Republic', 'Morocco', 'Madagascar', 'South Sudan',\n",
       "       'Ethiopia', 'Rwanda', 'Chad', 'Malawi', 'Mauritania', 'Liberia',\n",
       "       'Zambia', 'Algeria', 'Gabon', 'Senegal', 'Equatorial Guinea',\n",
       "       'Benin', 'Tanzania', 'Zimbabwe', 'eSwatini', 'Sierra Leone',\n",
       "       'Lesotho', 'Guinea-Bissau', 'Republic of Congo', 'Namibia',\n",
       "       'Eritrea', 'Togo', 'Gambia', 'Botswana', 'Djibouti'], dtype=object)"
      ]
     },
     "execution_count": 2,
     "metadata": {},
     "output_type": "execute_result"
    }
   ],
   "source": [
    "full_df = pd.read_csv('../data/africa_data.csv')\n",
    "full_df['country'].unique()"
   ]
  },
  {
   "cell_type": "code",
   "execution_count": 3,
   "metadata": {},
   "outputs": [
    {
     "data": {
      "text/plain": [
       "array(['data_id', 'iso', 'event_id_cnty', 'event_id_no_cnty',\n",
       "       'event_date', 'year', 'time_precision', 'event_type',\n",
       "       'sub_event_type', 'actor1', 'assoc_actor_1', 'inter1', 'actor2',\n",
       "       'assoc_actor_2', 'inter2', 'interaction', 'region', 'country',\n",
       "       'admin1', 'admin2', 'admin3', 'location', 'latitude', 'longitude',\n",
       "       'geo_precision', 'source', 'source_scale', 'notes', 'fatalities',\n",
       "       'timestamp', 'iso3'], dtype=object)"
      ]
     },
     "execution_count": 3,
     "metadata": {},
     "output_type": "execute_result"
    }
   ],
   "source": [
    "full_df.columns.values"
   ]
  },
  {
   "cell_type": "code",
   "execution_count": 4,
   "metadata": {},
   "outputs": [
    {
     "data": {
      "text/plain": [
       "array(['National', 'Other-National', 'Subnational', 'Other',\n",
       "       'National-International', 'Regional', 'National-Regional',\n",
       "       'Subnational-Regional', 'International', 'Other-Subnational',\n",
       "       'Subnational-National', 'Other-International',\n",
       "       'Regional-International', 'Local', 'Other-National-International',\n",
       "       'Other-Regional', 'Other-Regional-National-International',\n",
       "       'Subnational-National-International', 'Subnational-International',\n",
       "       'National-Subnational', 'Natonal-International',\n",
       "       'Other-Regional-International', 'National-international',\n",
       "       'Other-Local', 'Local-Regional', 'Local-National',\n",
       "       'Subnational-regional', 'National-Regional-International',\n",
       "       'National-regional', 'Regional-international',\n",
       "       'Local-International', 'Other-Local-International',\n",
       "       'Local-Subnational', 'Local ', 'National ', 'other-International',\n",
       "       'Other-national', 'Other-international',\n",
       "       'Subnational-international', 'Subnational-Regional-International',\n",
       "       'Other-Local-Subnational', 'Other-local', 'Other-subnational',\n",
       "       'Subnational-national', 'Subnational-national-international',\n",
       "       'Local-regional', 'Subnational-regional-international',\n",
       "       'Other-regional', 'Local-national', 'Local-subnational',\n",
       "       'Other-subnational-regional',\n",
       "       'Other-subnational-national-regional', 'Local-international',\n",
       "       'Other-Subnational-International',\n",
       "       'Other-subnational-international'], dtype=object)"
      ]
     },
     "execution_count": 4,
     "metadata": {},
     "output_type": "execute_result"
    }
   ],
   "source": [
    "full_df['source_scale'].unique()"
   ]
  },
  {
   "cell_type": "code",
   "execution_count": 5,
   "metadata": {},
   "outputs": [
    {
     "data": {
      "text/plain": [
       "array([2019, 2018, 2017, 2016, 2015, 2014, 2013, 2012, 2011, 2010, 2009])"
      ]
     },
     "execution_count": 5,
     "metadata": {},
     "output_type": "execute_result"
    }
   ],
   "source": [
    "full_df['year'].unique()"
   ]
  },
  {
   "cell_type": "code",
   "execution_count": 6,
   "metadata": {},
   "outputs": [
    {
     "data": {
      "text/plain": [
       "array(['Explosions/Remote violence', 'Riots',\n",
       "       'Violence against civilians', 'Battles'], dtype=object)"
      ]
     },
     "execution_count": 6,
     "metadata": {},
     "output_type": "execute_result"
    }
   ],
   "source": [
    "full_df['event_type'].unique()"
   ]
  },
  {
   "cell_type": "code",
   "execution_count": 7,
   "metadata": {},
   "outputs": [],
   "source": [
    "violent_events = ['Explosions/Remote violence', 'Battles', 'Violence against civilians']"
   ]
  },
  {
   "cell_type": "code",
   "execution_count": 8,
   "metadata": {},
   "outputs": [],
   "source": [
    "congo = full_df.loc[(full_df['country'] == 'Democratic Republic of Congo') & (full_df['event_type'].isin(violent_events))]"
   ]
  },
  {
   "cell_type": "code",
   "execution_count": 9,
   "metadata": {},
   "outputs": [],
   "source": [
    "congo_yearly_dfs = {}\n",
    "for year in congo['year'].unique():\n",
    "    congo_yearly_dfs[year] = congo.loc[congo['year'] == year]"
   ]
  },
  {
   "cell_type": "code",
   "execution_count": 10,
   "metadata": {},
   "outputs": [
    {
     "data": {
      "text/html": [
       "<script type=\"text/javascript\">window.PlotlyConfig = {MathJaxConfig: 'local'};</script><script type=\"text/javascript\">if (window.MathJax) {MathJax.Hub.Config({SVG: {font: \"STIX-Web\"}});}</script><script>requirejs.config({paths: { 'plotly': ['https://cdn.plot.ly/plotly-latest.min']},});if(!window._Plotly) {require(['plotly'],function(plotly) {window._Plotly=plotly;});}</script>"
      ],
      "text/vnd.plotly.v1+html": [
       "<script type=\"text/javascript\">window.PlotlyConfig = {MathJaxConfig: 'local'};</script><script type=\"text/javascript\">if (window.MathJax) {MathJax.Hub.Config({SVG: {font: \"STIX-Web\"}});}</script><script>requirejs.config({paths: { 'plotly': ['https://cdn.plot.ly/plotly-latest.min']},});if(!window._Plotly) {require(['plotly'],function(plotly) {window._Plotly=plotly;});}</script>"
      ]
     },
     "metadata": {},
     "output_type": "display_data"
    }
   ],
   "source": [
    "import plotly.graph_objs as go\n",
    "from plotly.offline import download_plotlyjs, init_notebook_mode, plot, iplot\n",
    "init_notebook_mode(connected=True)"
   ]
  },
  {
   "cell_type": "code",
   "execution_count": 11,
   "metadata": {},
   "outputs": [
    {
     "name": "stderr",
     "output_type": "stream",
     "text": [
      "/Users/shelbyruettiger/projects/conflict/venv/lib/python3.6/site-packages/IPython/core/display.py:689: UserWarning:\n",
      "\n",
      "Consider using IPython.display.IFrame instead\n",
      "\n"
     ]
    },
    {
     "data": {
      "text/html": [
       "<iframe id=\"igraph\" scrolling=\"no\" style=\"border:none;\" seamless=\"seamless\" src=\"https://plot.ly/~ruettig1/6.embed\" height=\"600px\" width=\"100%\"></iframe>"
      ],
      "text/plain": [
       "<plotly.tools.PlotlyDisplay object>"
      ]
     },
     "execution_count": 11,
     "metadata": {},
     "output_type": "execute_result"
    }
   ],
   "source": [
    "yearly_traces = []\n",
    "yearly_annotations = []\n",
    "\n",
    "yearly_colors = {2010: \"#56137A\", 2011: \"#39A2AE\", 2012: \"#55DBCB\", 2013: \"#75E4B3\",\n",
    "                 2014: \"#ED7D3A\", 2015: \"#8CD867\", 2016: \"#33CFA5\", 2017: \"#2FBF71\",\n",
    "                 2018: \"#28AFB0\", 2019: \"#F34D35\", 2009: \"#EE964B\"}\n",
    "\n",
    "for year in congo_yearly_dfs:\n",
    "    yearly_traces.append((year, go.Scattermapbox(\n",
    "                                            lat=congo_yearly_dfs[year]['latitude'],\n",
    "                                            lon=congo_yearly_dfs[year]['longitude'],\n",
    "                                            mode='markers',\n",
    "                                            name = str(year),\n",
    "                                            marker=go.scattermapbox.Marker(\n",
    "                                                size=4,\n",
    "                                                color=yearly_colors[year].lower()\n",
    "                                        ),\n",
    "                                            text=congo_yearly_dfs[year]['sub_event_type'],\n",
    "                                        )\n",
    "                        ))\n",
    "    \n",
    "\n",
    "\n",
    "mapbox_access_token = os.environ['MAPBOX_KEY']\n",
    "\n",
    "\n",
    "layout = go.Layout(\n",
    "    height = 600,\n",
    "    margin = dict( t=0, b=0, l=0, r=0 ),\n",
    "    mapbox=go.layout.Mapbox(\n",
    "        accesstoken=mapbox_access_token,\n",
    "        bearing=0,\n",
    "        center=go.layout.mapbox.Center(\n",
    "            lat=-4,\n",
    "            lon=23\n",
    "        ),\n",
    "        pitch=0,\n",
    "        zoom=4,\n",
    "        style='dark'\n",
    "    ),\n",
    ")\n",
    "\n",
    "updatemenus = list([dict(active=-1, buttons=list(), pad = {'r': 0, 't': 8},\n",
    "                         x = 0.05,\n",
    "                         xanchor = 'left',\n",
    "                         y = 1.0,\n",
    "                         yanchor = 'top',\n",
    "                         bgcolor = '#AAAAAA',\n",
    "                         bordercolor = '#FFFFFF',\n",
    "                         font = dict(size=11, color='#000000'))])\n",
    "\n",
    "for index, item in enumerate(yearly_traces):\n",
    "\n",
    "    visibility_list = [False] * len(yearly_traces)\n",
    "    visibility_list[index] = True\n",
    "    updatemenus[0]['buttons'].append(dict(label = str(item[0]),\n",
    "                                          method = 'update',\n",
    "                                          args = [{'visible': visibility_list},\n",
    "                                                   {'title': str(year)}]))\n",
    "\n",
    "updatemenus[0]['buttons'].append(dict(label = 'All',\n",
    "                                       method = 'update',\n",
    "                                       args = [{'visible': [True] * len(yearly_traces)},\n",
    "                                               {'title': 'All Years'}]))\n",
    "\n",
    "updatemenus.append(dict(\n",
    "                        buttons=list([\n",
    "                            dict(\n",
    "                                args=['mapbox.style', 'dark'],\n",
    "                                label='Dark',\n",
    "                                method='relayout'\n",
    "                            ),                    \n",
    "                            dict(\n",
    "                                args=['mapbox.style', 'light'],\n",
    "                                label='Light',\n",
    "                                method='relayout'\n",
    "                            ),\n",
    "                            dict(\n",
    "                                args=['mapbox.style', 'satellite'],\n",
    "                                label='Satellite',\n",
    "                                method='relayout'\n",
    "                            ),\n",
    "                            dict(\n",
    "                                args=['mapbox.style', 'satellite-streets'],\n",
    "                                label='Satellite with Streets',\n",
    "                                method='relayout'\n",
    "                            )                    \n",
    "                        ]),\n",
    "                        direction = 'up',\n",
    "                        x = 0.75,\n",
    "                        xanchor = 'left',\n",
    "                        y = 0.05,\n",
    "                        yanchor = 'bottom',\n",
    "                        bgcolor = '#000000',\n",
    "                        bordercolor = '#FFFFFF',\n",
    "                        font = dict(size=11)\n",
    "                    ))\n",
    "\n",
    "data = [item[1] for item in yearly_traces]\n",
    "\n",
    "annotations = list([\n",
    "    dict(text='Violent Conflicts in DRC (scroll to zoom)', font=dict(color='#fe4a49',size=14), borderpad=10, \n",
    "         x=0.05, y=0.05, xref='paper', yref='paper', align='left', showarrow=False, bgcolor='black'),\n",
    "    dict(text='Year', x=0.01, y=0.99, yref='paper', align='left', showarrow=False,font=dict(color='white',size=14))\n",
    "])\n",
    "\n",
    "layout['updatemenus'] = updatemenus\n",
    "layout['annotations'] = annotations\n",
    "\n",
    "\n",
    "figure = dict(data=data, layout=layout)\n",
    "py.iplot(figure, filename='africa-conflict-dropdown')\n",
    "\n"
   ]
  },
  {
   "cell_type": "code",
   "execution_count": null,
   "metadata": {},
   "outputs": [],
   "source": []
  },
  {
   "cell_type": "code",
   "execution_count": null,
   "metadata": {},
   "outputs": [],
   "source": [
    "yearly_traces = []\n",
    "yearly_annotations = []\n",
    "\n",
    "yearly_colors = {2010: \"#56137A\", 2011: \"#39A2AE\", 2012: \"#55DBCB\", 2013: \"#75E4B3\",\n",
    "                 2014: \"#ED7D3A\", 2015: \"#8CD867\", 2016: \"#33CFA5\", 2017: \"#2FBF71\",\n",
    "                 2018: \"#28AFB0\", 2019: \"#F34D35\", 2009: \"#EE964B\"}\n",
    "\n",
    "for year in congo_yearly_dfs:\n",
    "    yearly_traces.append((year, go.Scattermapbox(\n",
    "                                            lat=congo_yearly_dfs[year]['latitude'],\n",
    "                                            lon=congo_yearly_dfs[year]['longitude'],\n",
    "                                            mode='markers',\n",
    "                                            name = str(year),\n",
    "                                            marker=go.scattermapbox.Marker(\n",
    "                                                size=4,\n",
    "                                                color=yearly_colors[year].lower()\n",
    "                                        ),\n",
    "                                            text=congo_yearly_dfs[year]['sub_event_type'],\n",
    "                                        )\n",
    "                        ))\n",
    "    \n",
    "\n",
    "\n",
    "mapbox_access_token = os.environ['MAPBOX_KEY']\n",
    "\n",
    "\n",
    "layout = go.Layout(\n",
    "    height = 600,\n",
    "    margin = dict( t=0, b=0, l=0, r=0 ),\n",
    "    mapbox=go.layout.Mapbox(\n",
    "        accesstoken=mapbox_access_token,\n",
    "        bearing=0,\n",
    "        center=go.layout.mapbox.Center(\n",
    "            lat=-4,\n",
    "            lon=23\n",
    "        ),\n",
    "        pitch=0,\n",
    "        zoom=4,\n",
    "        style='dark'\n",
    "    ),\n",
    ")\n",
    "\n",
    "updatemenus = list([dict(active=-1, buttons=list(), pad = {'r': 0, 't': 8},\n",
    "                         x = 0.05,\n",
    "                         xanchor = 'left',\n",
    "                         y = 1.0,\n",
    "                         yanchor = 'top',\n",
    "                         bgcolor = '#AAAAAA',\n",
    "                         bordercolor = '#FFFFFF',\n",
    "                         font = dict(size=11, color='#000000'))])\n",
    "\n",
    "for index, item in enumerate(yearly_traces):\n",
    "\n",
    "    visibility_list = [False] * len(yearly_traces)\n",
    "    visibility_list[index] = True\n",
    "    updatemenus[0]['buttons'].append(dict(label = str(item[0]),\n",
    "                                          method = 'update',\n",
    "                                          args = [{'visible': visibility_list},\n",
    "                                                   {'title': str(year)}]))\n",
    "\n",
    "updatemenus[0]['buttons'].append(dict(label = 'All',\n",
    "                                       method = 'update',\n",
    "                                       args = [{'visible': [True] * len(yearly_traces)},\n",
    "                                               {'title': 'All Years'}]))\n",
    "\n",
    "updatemenus.append(dict(\n",
    "                        buttons=list([\n",
    "                            dict(\n",
    "                                args=['mapbox.style', 'dark'],\n",
    "                                label='Dark',\n",
    "                                method='relayout'\n",
    "                            ),                    \n",
    "                            dict(\n",
    "                                args=['mapbox.style', 'light'],\n",
    "                                label='Light',\n",
    "                                method='relayout'\n",
    "                            ),\n",
    "                            dict(\n",
    "                                args=['mapbox.style', 'satellite'],\n",
    "                                label='Satellite',\n",
    "                                method='relayout'\n",
    "                            ),\n",
    "                            dict(\n",
    "                                args=['mapbox.style', 'satellite-streets'],\n",
    "                                label='Satellite with Streets',\n",
    "                                method='relayout'\n",
    "                            )                    \n",
    "                        ]),\n",
    "                        direction = 'up',\n",
    "                        x = 0.75,\n",
    "                        xanchor = 'left',\n",
    "                        y = 0.05,\n",
    "                        yanchor = 'bottom',\n",
    "                        bgcolor = '#000000',\n",
    "                        bordercolor = '#FFFFFF',\n",
    "                        font = dict(size=11)\n",
    "                    ))\n",
    "\n",
    "data = [item[1] for item in yearly_traces]\n",
    "\n",
    "annotations = list([\n",
    "    dict(text='Violent Conflicts in DRC (scroll to zoom)', font=dict(color='#fe4a49',size=14), borderpad=10, \n",
    "         x=0.05, y=0.05, xref='paper', yref='paper', align='left', showarrow=False, bgcolor='black'),\n",
    "    dict(text='Year', x=0.01, y=0.99, yref='paper', align='left', showarrow=False,font=dict(color='white',size=14))\n",
    "])\n",
    "\n",
    "layout['updatemenus'] = updatemenus\n",
    "layout['annotations'] = annotations\n",
    "\n",
    "\n",
    "figure = dict(data=data, layout=layout)\n",
    "py.iplot(figure, filename='drc-conflict-year-dropdown')\n",
    "\n"
   ]
  },
  {
   "cell_type": "code",
   "execution_count": null,
   "metadata": {},
   "outputs": [],
   "source": []
  }
 ],
 "metadata": {
  "kernelspec": {
   "display_name": "Python 3",
   "language": "python",
   "name": "python3"
  },
  "language_info": {
   "codemirror_mode": {
    "name": "ipython",
    "version": 3
   },
   "file_extension": ".py",
   "mimetype": "text/x-python",
   "name": "python",
   "nbconvert_exporter": "python",
   "pygments_lexer": "ipython3",
   "version": "3.6.5"
  }
 },
 "nbformat": 4,
 "nbformat_minor": 2
}
